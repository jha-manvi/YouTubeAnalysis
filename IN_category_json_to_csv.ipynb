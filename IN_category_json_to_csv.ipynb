{
 "cells": [
  {
   "cell_type": "code",
   "execution_count": 27,
   "id": "4c5fe8b3",
   "metadata": {},
   "outputs": [],
   "source": [
    "import pandas as pd\n",
    "import csv"
   ]
  },
  {
   "cell_type": "code",
   "execution_count": 33,
   "id": "136f440a",
   "metadata": {},
   "outputs": [],
   "source": [
    "import json"
   ]
  },
  {
   "cell_type": "code",
   "execution_count": 36,
   "id": "355c88cf",
   "metadata": {},
   "outputs": [],
   "source": [
    "with open('IN_category_id.json') as f:\n",
    "    d=json.load(f)"
   ]
  },
  {
   "cell_type": "code",
   "execution_count": 37,
   "id": "a0c97cb1",
   "metadata": {},
   "outputs": [],
   "source": [
    "df=pd.json_normalize(d,record_path=['items'])"
   ]
  },
  {
   "cell_type": "code",
   "execution_count": 38,
   "id": "87643970",
   "metadata": {},
   "outputs": [
    {
     "data": {
      "text/html": [
       "<div>\n",
       "<style scoped>\n",
       "    .dataframe tbody tr th:only-of-type {\n",
       "        vertical-align: middle;\n",
       "    }\n",
       "\n",
       "    .dataframe tbody tr th {\n",
       "        vertical-align: top;\n",
       "    }\n",
       "\n",
       "    .dataframe thead th {\n",
       "        text-align: right;\n",
       "    }\n",
       "</style>\n",
       "<table border=\"1\" class=\"dataframe\">\n",
       "  <thead>\n",
       "    <tr style=\"text-align: right;\">\n",
       "      <th></th>\n",
       "      <th>kind</th>\n",
       "      <th>etag</th>\n",
       "      <th>id</th>\n",
       "      <th>snippet.channelId</th>\n",
       "      <th>snippet.title</th>\n",
       "      <th>snippet.assignable</th>\n",
       "    </tr>\n",
       "  </thead>\n",
       "  <tbody>\n",
       "    <tr>\n",
       "      <th>0</th>\n",
       "      <td>youtube#videoCategory</td>\n",
       "      <td>\"XI7nbFXulYBIpL0ayR_gDh3eu1k/Xy1mB4_yLrHy_BmKm...</td>\n",
       "      <td>1</td>\n",
       "      <td>UCBR8-60-B28hp2BmDPdntcQ</td>\n",
       "      <td>Film &amp; Animation</td>\n",
       "      <td>True</td>\n",
       "    </tr>\n",
       "    <tr>\n",
       "      <th>1</th>\n",
       "      <td>youtube#videoCategory</td>\n",
       "      <td>\"XI7nbFXulYBIpL0ayR_gDh3eu1k/UZ1oLIIz2dxIhO45Z...</td>\n",
       "      <td>2</td>\n",
       "      <td>UCBR8-60-B28hp2BmDPdntcQ</td>\n",
       "      <td>Autos &amp; Vehicles</td>\n",
       "      <td>True</td>\n",
       "    </tr>\n",
       "    <tr>\n",
       "      <th>2</th>\n",
       "      <td>youtube#videoCategory</td>\n",
       "      <td>\"XI7nbFXulYBIpL0ayR_gDh3eu1k/nqRIq97-xe5XRZTxb...</td>\n",
       "      <td>10</td>\n",
       "      <td>UCBR8-60-B28hp2BmDPdntcQ</td>\n",
       "      <td>Music</td>\n",
       "      <td>True</td>\n",
       "    </tr>\n",
       "    <tr>\n",
       "      <th>3</th>\n",
       "      <td>youtube#videoCategory</td>\n",
       "      <td>\"XI7nbFXulYBIpL0ayR_gDh3eu1k/HwXKamM1Q20q9BN-o...</td>\n",
       "      <td>15</td>\n",
       "      <td>UCBR8-60-B28hp2BmDPdntcQ</td>\n",
       "      <td>Pets &amp; Animals</td>\n",
       "      <td>True</td>\n",
       "    </tr>\n",
       "    <tr>\n",
       "      <th>4</th>\n",
       "      <td>youtube#videoCategory</td>\n",
       "      <td>\"XI7nbFXulYBIpL0ayR_gDh3eu1k/9GQMSRjrZdHeb1OEM...</td>\n",
       "      <td>17</td>\n",
       "      <td>UCBR8-60-B28hp2BmDPdntcQ</td>\n",
       "      <td>Sports</td>\n",
       "      <td>True</td>\n",
       "    </tr>\n",
       "  </tbody>\n",
       "</table>\n",
       "</div>"
      ],
      "text/plain": [
       "                    kind                                               etag  \\\n",
       "0  youtube#videoCategory  \"XI7nbFXulYBIpL0ayR_gDh3eu1k/Xy1mB4_yLrHy_BmKm...   \n",
       "1  youtube#videoCategory  \"XI7nbFXulYBIpL0ayR_gDh3eu1k/UZ1oLIIz2dxIhO45Z...   \n",
       "2  youtube#videoCategory  \"XI7nbFXulYBIpL0ayR_gDh3eu1k/nqRIq97-xe5XRZTxb...   \n",
       "3  youtube#videoCategory  \"XI7nbFXulYBIpL0ayR_gDh3eu1k/HwXKamM1Q20q9BN-o...   \n",
       "4  youtube#videoCategory  \"XI7nbFXulYBIpL0ayR_gDh3eu1k/9GQMSRjrZdHeb1OEM...   \n",
       "\n",
       "   id         snippet.channelId     snippet.title  snippet.assignable  \n",
       "0   1  UCBR8-60-B28hp2BmDPdntcQ  Film & Animation                True  \n",
       "1   2  UCBR8-60-B28hp2BmDPdntcQ  Autos & Vehicles                True  \n",
       "2  10  UCBR8-60-B28hp2BmDPdntcQ             Music                True  \n",
       "3  15  UCBR8-60-B28hp2BmDPdntcQ    Pets & Animals                True  \n",
       "4  17  UCBR8-60-B28hp2BmDPdntcQ            Sports                True  "
      ]
     },
     "execution_count": 38,
     "metadata": {},
     "output_type": "execute_result"
    }
   ],
   "source": [
    "df.head()"
   ]
  },
  {
   "cell_type": "code",
   "execution_count": 39,
   "id": "1c2b91d9",
   "metadata": {},
   "outputs": [],
   "source": [
    "df.to_csv('IN_category.csv')"
   ]
  },
  {
   "cell_type": "code",
   "execution_count": null,
   "id": "e6892db7",
   "metadata": {},
   "outputs": [],
   "source": []
  }
 ],
 "metadata": {
  "kernelspec": {
   "display_name": "Python 3",
   "language": "python",
   "name": "python3"
  },
  "language_info": {
   "codemirror_mode": {
    "name": "ipython",
    "version": 3
   },
   "file_extension": ".py",
   "mimetype": "text/x-python",
   "name": "python",
   "nbconvert_exporter": "python",
   "pygments_lexer": "ipython3",
   "version": "3.8.8"
  }
 },
 "nbformat": 4,
 "nbformat_minor": 5
}
